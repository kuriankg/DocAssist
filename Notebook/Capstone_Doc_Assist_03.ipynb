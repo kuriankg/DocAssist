{
 "cells": [
  {
   "cell_type": "markdown",
   "id": "c72cafec-2ef2-4f29-9103-a1a154159bcd",
   "metadata": {},
   "source": [
    "Objective:- Making informed decisions about the best treatment options for individual patients"
   ]
  },
  {
   "cell_type": "markdown",
   "id": "2088d158-8693-45f5-9a9d-fac5e1acdf97",
   "metadata": {},
   "source": [
    "import libraries"
   ]
  },
  {
   "cell_type": "code",
   "execution_count": 1,
   "id": "51d255c9-a4c6-45f0-bc33-5dcf04a39bf3",
   "metadata": {},
   "outputs": [],
   "source": [
    "import pandas as pd\n",
    "import numpy as np\n",
    "import matplotlib.pyplot as plt\n",
    "import seaborn as sns"
   ]
  },
  {
   "cell_type": "markdown",
   "id": "75a5c1a4-8cd0-45ad-baff-2a4bd53dc6f6",
   "metadata": {},
   "source": [
    "Loading the data"
   ]
  },
  {
   "cell_type": "code",
   "execution_count": 2,
   "id": "39ff3cc9-3ff6-4193-9522-474b478e9dd5",
   "metadata": {},
   "outputs": [],
   "source": [
    "df=pd.read_excel(\"/Users/kuriankgeorge/Desktop/aws/Capstone/03_Doc_Assist/data/dataset.xlsx\")"
   ]
  },
  {
   "cell_type": "code",
   "execution_count": 3,
   "id": "1e658b65-55f4-4166-a671-42c753f717fa",
   "metadata": {},
   "outputs": [
    {
     "data": {
      "text/plain": [
       "(3309, 11)"
      ]
     },
     "execution_count": 3,
     "metadata": {},
     "output_type": "execute_result"
    }
   ],
   "source": [
    "df.shape"
   ]
  },
  {
   "cell_type": "code",
   "execution_count": 4,
   "id": "642c4516-6d2c-4f51-ba25-371c904994b2",
   "metadata": {},
   "outputs": [
    {
     "data": {
      "text/html": [
       "<div>\n",
       "<style scoped>\n",
       "    .dataframe tbody tr th:only-of-type {\n",
       "        vertical-align: middle;\n",
       "    }\n",
       "\n",
       "    .dataframe tbody tr th {\n",
       "        vertical-align: top;\n",
       "    }\n",
       "\n",
       "    .dataframe thead th {\n",
       "        text-align: right;\n",
       "    }\n",
       "</style>\n",
       "<table border=\"1\" class=\"dataframe\">\n",
       "  <thead>\n",
       "    <tr style=\"text-align: right;\">\n",
       "      <th></th>\n",
       "      <th>HAEMATOCRIT</th>\n",
       "      <th>HAEMOGLOBINS</th>\n",
       "      <th>ERYTHROCYTE</th>\n",
       "      <th>LEUCOCYTE</th>\n",
       "      <th>THROMBOCYTE</th>\n",
       "      <th>MCH</th>\n",
       "      <th>MCHC</th>\n",
       "      <th>MCV</th>\n",
       "      <th>AGE</th>\n",
       "      <th>SEX</th>\n",
       "      <th>SOURCE</th>\n",
       "    </tr>\n",
       "  </thead>\n",
       "  <tbody>\n",
       "    <tr>\n",
       "      <th>0</th>\n",
       "      <td>33.8</td>\n",
       "      <td>11.1</td>\n",
       "      <td>4.18</td>\n",
       "      <td>4.6</td>\n",
       "      <td>150</td>\n",
       "      <td>26.6</td>\n",
       "      <td>32.8</td>\n",
       "      <td>80.9</td>\n",
       "      <td>33</td>\n",
       "      <td>F</td>\n",
       "      <td>1</td>\n",
       "    </tr>\n",
       "    <tr>\n",
       "      <th>1</th>\n",
       "      <td>44.6</td>\n",
       "      <td>14.0</td>\n",
       "      <td>6.86</td>\n",
       "      <td>6.3</td>\n",
       "      <td>232</td>\n",
       "      <td>20.4</td>\n",
       "      <td>31.4</td>\n",
       "      <td>65.0</td>\n",
       "      <td>36</td>\n",
       "      <td>M</td>\n",
       "      <td>0</td>\n",
       "    </tr>\n",
       "    <tr>\n",
       "      <th>2</th>\n",
       "      <td>42.9</td>\n",
       "      <td>14.0</td>\n",
       "      <td>4.57</td>\n",
       "      <td>6.2</td>\n",
       "      <td>336</td>\n",
       "      <td>30.6</td>\n",
       "      <td>32.6</td>\n",
       "      <td>93.9</td>\n",
       "      <td>70</td>\n",
       "      <td>F</td>\n",
       "      <td>0</td>\n",
       "    </tr>\n",
       "    <tr>\n",
       "      <th>3</th>\n",
       "      <td>41.9</td>\n",
       "      <td>14.4</td>\n",
       "      <td>4.67</td>\n",
       "      <td>3.5</td>\n",
       "      <td>276</td>\n",
       "      <td>30.8</td>\n",
       "      <td>34.4</td>\n",
       "      <td>89.7</td>\n",
       "      <td>18</td>\n",
       "      <td>F</td>\n",
       "      <td>0</td>\n",
       "    </tr>\n",
       "    <tr>\n",
       "      <th>4</th>\n",
       "      <td>40.6</td>\n",
       "      <td>13.3</td>\n",
       "      <td>4.85</td>\n",
       "      <td>14.9</td>\n",
       "      <td>711</td>\n",
       "      <td>27.4</td>\n",
       "      <td>32.8</td>\n",
       "      <td>83.7</td>\n",
       "      <td>36</td>\n",
       "      <td>M</td>\n",
       "      <td>0</td>\n",
       "    </tr>\n",
       "  </tbody>\n",
       "</table>\n",
       "</div>"
      ],
      "text/plain": [
       "   HAEMATOCRIT  HAEMOGLOBINS  ERYTHROCYTE  LEUCOCYTE  THROMBOCYTE   MCH  MCHC  \\\n",
       "0         33.8          11.1         4.18        4.6          150  26.6  32.8   \n",
       "1         44.6          14.0         6.86        6.3          232  20.4  31.4   \n",
       "2         42.9          14.0         4.57        6.2          336  30.6  32.6   \n",
       "3         41.9          14.4         4.67        3.5          276  30.8  34.4   \n",
       "4         40.6          13.3         4.85       14.9          711  27.4  32.8   \n",
       "\n",
       "    MCV  AGE SEX  SOURCE  \n",
       "0  80.9   33   F       1  \n",
       "1  65.0   36   M       0  \n",
       "2  93.9   70   F       0  \n",
       "3  89.7   18   F       0  \n",
       "4  83.7   36   M       0  "
      ]
     },
     "execution_count": 4,
     "metadata": {},
     "output_type": "execute_result"
    }
   ],
   "source": [
    "df.head()"
   ]
  },
  {
   "cell_type": "code",
   "execution_count": 5,
   "id": "1e473b98-a4bc-4593-8a45-5fd2a3e155ae",
   "metadata": {},
   "outputs": [
    {
     "name": "stdout",
     "output_type": "stream",
     "text": [
      "<class 'pandas.core.frame.DataFrame'>\n",
      "RangeIndex: 3309 entries, 0 to 3308\n",
      "Data columns (total 11 columns):\n",
      " #   Column        Non-Null Count  Dtype  \n",
      "---  ------        --------------  -----  \n",
      " 0   HAEMATOCRIT   3309 non-null   float64\n",
      " 1   HAEMOGLOBINS  3309 non-null   float64\n",
      " 2   ERYTHROCYTE   3309 non-null   float64\n",
      " 3   LEUCOCYTE     3309 non-null   float64\n",
      " 4   THROMBOCYTE   3309 non-null   int64  \n",
      " 5   MCH           3309 non-null   float64\n",
      " 6   MCHC          3309 non-null   float64\n",
      " 7   MCV           3309 non-null   float64\n",
      " 8   AGE           3309 non-null   int64  \n",
      " 9   SEX           3309 non-null   object \n",
      " 10  SOURCE        3309 non-null   int64  \n",
      "dtypes: float64(7), int64(3), object(1)\n",
      "memory usage: 284.5+ KB\n"
     ]
    }
   ],
   "source": [
    "df.info()"
   ]
  },
  {
   "cell_type": "markdown",
   "id": "8e8cdd46-334e-4f70-a9c8-686a955dd098",
   "metadata": {},
   "source": [
    "There are no missing values"
   ]
  },
  {
   "cell_type": "code",
   "execution_count": 6,
   "id": "bd7e1d01-f257-4c3c-b0a5-8c16d96175f1",
   "metadata": {},
   "outputs": [
    {
     "data": {
      "text/html": [
       "<div>\n",
       "<style scoped>\n",
       "    .dataframe tbody tr th:only-of-type {\n",
       "        vertical-align: middle;\n",
       "    }\n",
       "\n",
       "    .dataframe tbody tr th {\n",
       "        vertical-align: top;\n",
       "    }\n",
       "\n",
       "    .dataframe thead th {\n",
       "        text-align: right;\n",
       "    }\n",
       "</style>\n",
       "<table border=\"1\" class=\"dataframe\">\n",
       "  <thead>\n",
       "    <tr style=\"text-align: right;\">\n",
       "      <th></th>\n",
       "      <th>HAEMATOCRIT</th>\n",
       "      <th>HAEMOGLOBINS</th>\n",
       "      <th>ERYTHROCYTE</th>\n",
       "      <th>LEUCOCYTE</th>\n",
       "      <th>THROMBOCYTE</th>\n",
       "      <th>MCH</th>\n",
       "      <th>MCHC</th>\n",
       "      <th>MCV</th>\n",
       "      <th>AGE</th>\n",
       "      <th>SOURCE</th>\n",
       "    </tr>\n",
       "  </thead>\n",
       "  <tbody>\n",
       "    <tr>\n",
       "      <th>count</th>\n",
       "      <td>3309.000000</td>\n",
       "      <td>3309.000000</td>\n",
       "      <td>3309.000000</td>\n",
       "      <td>3309.000000</td>\n",
       "      <td>3309.000000</td>\n",
       "      <td>3309.000000</td>\n",
       "      <td>3309.000000</td>\n",
       "      <td>3309.000000</td>\n",
       "      <td>3309.000000</td>\n",
       "      <td>3309.000000</td>\n",
       "    </tr>\n",
       "    <tr>\n",
       "      <th>mean</th>\n",
       "      <td>38.226111</td>\n",
       "      <td>12.749350</td>\n",
       "      <td>4.544802</td>\n",
       "      <td>8.715533</td>\n",
       "      <td>258.893019</td>\n",
       "      <td>28.230039</td>\n",
       "      <td>33.336476</td>\n",
       "      <td>84.611333</td>\n",
       "      <td>46.644303</td>\n",
       "      <td>0.398005</td>\n",
       "    </tr>\n",
       "    <tr>\n",
       "      <th>std</th>\n",
       "      <td>5.971943</td>\n",
       "      <td>2.084325</td>\n",
       "      <td>0.784510</td>\n",
       "      <td>4.991299</td>\n",
       "      <td>112.676139</td>\n",
       "      <td>2.696520</td>\n",
       "      <td>1.247055</td>\n",
       "      <td>6.916079</td>\n",
       "      <td>21.874106</td>\n",
       "      <td>0.489561</td>\n",
       "    </tr>\n",
       "    <tr>\n",
       "      <th>min</th>\n",
       "      <td>13.700000</td>\n",
       "      <td>3.800000</td>\n",
       "      <td>1.480000</td>\n",
       "      <td>1.100000</td>\n",
       "      <td>10.000000</td>\n",
       "      <td>14.900000</td>\n",
       "      <td>26.000000</td>\n",
       "      <td>54.000000</td>\n",
       "      <td>1.000000</td>\n",
       "      <td>0.000000</td>\n",
       "    </tr>\n",
       "    <tr>\n",
       "      <th>25%</th>\n",
       "      <td>34.300000</td>\n",
       "      <td>11.400000</td>\n",
       "      <td>4.040000</td>\n",
       "      <td>5.700000</td>\n",
       "      <td>191.000000</td>\n",
       "      <td>27.200000</td>\n",
       "      <td>32.700000</td>\n",
       "      <td>81.500000</td>\n",
       "      <td>29.000000</td>\n",
       "      <td>0.000000</td>\n",
       "    </tr>\n",
       "    <tr>\n",
       "      <th>50%</th>\n",
       "      <td>38.700000</td>\n",
       "      <td>12.900000</td>\n",
       "      <td>4.580000</td>\n",
       "      <td>7.600000</td>\n",
       "      <td>257.000000</td>\n",
       "      <td>28.700000</td>\n",
       "      <td>33.400000</td>\n",
       "      <td>85.300000</td>\n",
       "      <td>48.000000</td>\n",
       "      <td>0.000000</td>\n",
       "    </tr>\n",
       "    <tr>\n",
       "      <th>75%</th>\n",
       "      <td>42.500000</td>\n",
       "      <td>14.200000</td>\n",
       "      <td>5.060000</td>\n",
       "      <td>10.300000</td>\n",
       "      <td>322.000000</td>\n",
       "      <td>29.800000</td>\n",
       "      <td>34.100000</td>\n",
       "      <td>88.800000</td>\n",
       "      <td>64.000000</td>\n",
       "      <td>1.000000</td>\n",
       "    </tr>\n",
       "    <tr>\n",
       "      <th>max</th>\n",
       "      <td>69.000000</td>\n",
       "      <td>18.900000</td>\n",
       "      <td>7.860000</td>\n",
       "      <td>76.600000</td>\n",
       "      <td>1121.000000</td>\n",
       "      <td>40.800000</td>\n",
       "      <td>38.400000</td>\n",
       "      <td>115.600000</td>\n",
       "      <td>99.000000</td>\n",
       "      <td>1.000000</td>\n",
       "    </tr>\n",
       "  </tbody>\n",
       "</table>\n",
       "</div>"
      ],
      "text/plain": [
       "       HAEMATOCRIT  HAEMOGLOBINS  ERYTHROCYTE    LEUCOCYTE  THROMBOCYTE  \\\n",
       "count  3309.000000   3309.000000  3309.000000  3309.000000  3309.000000   \n",
       "mean     38.226111     12.749350     4.544802     8.715533   258.893019   \n",
       "std       5.971943      2.084325     0.784510     4.991299   112.676139   \n",
       "min      13.700000      3.800000     1.480000     1.100000    10.000000   \n",
       "25%      34.300000     11.400000     4.040000     5.700000   191.000000   \n",
       "50%      38.700000     12.900000     4.580000     7.600000   257.000000   \n",
       "75%      42.500000     14.200000     5.060000    10.300000   322.000000   \n",
       "max      69.000000     18.900000     7.860000    76.600000  1121.000000   \n",
       "\n",
       "               MCH         MCHC          MCV          AGE       SOURCE  \n",
       "count  3309.000000  3309.000000  3309.000000  3309.000000  3309.000000  \n",
       "mean     28.230039    33.336476    84.611333    46.644303     0.398005  \n",
       "std       2.696520     1.247055     6.916079    21.874106     0.489561  \n",
       "min      14.900000    26.000000    54.000000     1.000000     0.000000  \n",
       "25%      27.200000    32.700000    81.500000    29.000000     0.000000  \n",
       "50%      28.700000    33.400000    85.300000    48.000000     0.000000  \n",
       "75%      29.800000    34.100000    88.800000    64.000000     1.000000  \n",
       "max      40.800000    38.400000   115.600000    99.000000     1.000000  "
      ]
     },
     "execution_count": 6,
     "metadata": {},
     "output_type": "execute_result"
    }
   ],
   "source": [
    "df.describe()"
   ]
  },
  {
   "cell_type": "markdown",
   "id": "1c12155a-09ee-43c5-bd7f-142dc0515eb6",
   "metadata": {},
   "source": [
    "Understand distribution of HAEMATOCRIT"
   ]
  },
  {
   "cell_type": "code",
   "execution_count": 7,
   "id": "0053451e-29dd-4e12-b4fa-38b21d34c7fd",
   "metadata": {},
   "outputs": [
    {
     "name": "stderr",
     "output_type": "stream",
     "text": [
      "/opt/anaconda3/lib/python3.11/site-packages/seaborn/_oldcore.py:1119: FutureWarning: use_inf_as_na option is deprecated and will be removed in a future version. Convert inf values to NaN before operating instead.\n",
      "  with pd.option_context('mode.use_inf_as_na', True):\n"
     ]
    },
    {
     "data": {
      "image/png": "[encoded data removed]",
      "text/plain": [
       "<Figure size 640x480 with 1 Axes>"
      ]
     },
     "metadata": {},
     "output_type": "display_data"
    }
   ],
   "source": [
    "sns.histplot(data=df,x='HAEMATOCRIT',hue='SOURCE',multiple='stack', kde=False)\n",
    "plt.title(\"Distribution of HAEMATOCRIT\")\n",
    "plt.show()"
   ]
  },
  {
   "cell_type": "markdown",
   "id": "daa56dbe-8f4b-42b7-b424-e75011fc7756",
   "metadata": {},
   "source": [
    "Distribution looks same for both the classes"
   ]
  },
  {
   "cell_type": "code",
   "execution_count": 8,
   "id": "e6d7c63d-0ea8-4266-bc5a-cbb860c23def",
   "metadata": {},
   "outputs": [
    {
     "name": "stderr",
     "output_type": "stream",
     "text": [
      "/opt/anaconda3/lib/python3.11/site-packages/seaborn/_oldcore.py:1119: FutureWarning: use_inf_as_na option is deprecated and will be removed in a future version. Convert inf values to NaN before operating instead.\n",
      "  with pd.option_context('mode.use_inf_as_na', True):\n"
     ]
    },
    {
     "data": {
      "image/png": "[encoded data removed]",
      "text/plain": [
       "<Figure size 640x480 with 1 Axes>"
      ]
     },
     "metadata": {},
     "output_type": "display_data"
    }
   ],
   "source": [
    "sns.histplot(data=df,x='HAEMOGLOBINS',hue='SOURCE',multiple='stack', kde=False)\n",
    "plt.title(\"Distribution of HAEMOGLOBINS\")\n",
    "plt.show()"
   ]
  },
  {
   "cell_type": "markdown",
   "id": "d1096fc4-5bc8-4a5d-8189-50b2c7f7c6e3",
   "metadata": {},
   "source": [
    "For class 0 the distribution peaks around 14, which is not the case for class 1"
   ]
  },
  {
   "cell_type": "code",
   "execution_count": 9,
   "id": "e66ada8f-b265-4b21-8d1a-71a6a7795674",
   "metadata": {},
   "outputs": [
    {
     "name": "stderr",
     "output_type": "stream",
     "text": [
      "/opt/anaconda3/lib/python3.11/site-packages/seaborn/_oldcore.py:1119: FutureWarning: use_inf_as_na option is deprecated and will be removed in a future version. Convert inf values to NaN before operating instead.\n",
      "  with pd.option_context('mode.use_inf_as_na', True):\n"
     ]
    },
    {
     "data": {
      "image/png": "[encoded data removed]",
      "text/plain": [
       "<Figure size 640x480 with 1 Axes>"
      ]
     },
     "metadata": {},
     "output_type": "display_data"
    }
   ],
   "source": [
    "sns.histplot(data=df,x='ERYTHROCYTE',hue='SOURCE',multiple='stack', kde=False)\n",
    "plt.title(\"Distribution of ERYTHROCYTE\")\n",
    "plt.show()"
   ]
  },
  {
   "cell_type": "markdown",
   "id": "a66d58ac-c9ca-49b1-a9b5-7d26d48bbbcc",
   "metadata": {},
   "source": [
    "Distribution looks same for both the classes"
   ]
  },
  {
   "cell_type": "code",
   "execution_count": 10,
   "id": "1f8f37a2-8dc4-4295-8647-5c4ad89bd31c",
   "metadata": {},
   "outputs": [
    {
     "name": "stderr",
     "output_type": "stream",
     "text": [
      "/opt/anaconda3/lib/python3.11/site-packages/seaborn/_oldcore.py:1119: FutureWarning: use_inf_as_na option is deprecated and will be removed in a future version. Convert inf values to NaN before operating instead.\n",
      "  with pd.option_context('mode.use_inf_as_na', True):\n"
     ]
    },
    {
     "data": {
      "image/png": "[encoded data removed]",
      "text/plain": [
       "<Figure size 640x480 with 1 Axes>"
      ]
     },
     "metadata": {},
     "output_type": "display_data"
    }
   ],
   "source": [
    "sns.histplot(data=df,x='LEUCOCYTE',hue='SOURCE',multiple='stack', kde=False)\n",
    "plt.title(\"Distribution of LEUCOCYTE\")\n",
    "plt.show()"
   ]
  },
  {
   "cell_type": "markdown",
   "id": "5283bd36-a90c-48e1-939f-b63c81f4d973",
   "metadata": {},
   "source": [
    "LEUCOCYTE distribution is right skewed. Outliers are there in the data. We are not removing the outliers because we will be using random forest classifier"
   ]
  },
  {
   "cell_type": "code",
   "execution_count": 11,
   "id": "ccb9a749-2f7f-498f-a1df-e03590c6d5b0",
   "metadata": {},
   "outputs": [
    {
     "name": "stderr",
     "output_type": "stream",
     "text": [
      "/opt/anaconda3/lib/python3.11/site-packages/seaborn/_oldcore.py:1119: FutureWarning: use_inf_as_na option is deprecated and will be removed in a future version. Convert inf values to NaN before operating instead.\n",
      "  with pd.option_context('mode.use_inf_as_na', True):\n"
     ]
    },
    {
     "data": {
      "image/png": "[encoded data removed]",
      "text/plain": [
       "<Figure size 640x480 with 1 Axes>"
      ]
     },
     "metadata": {},
     "output_type": "display_data"
    }
   ],
   "source": [
    "sns.histplot(data=df,x='THROMBOCYTE',hue='SOURCE',multiple='stack', kde=False)\n",
    "plt.title(\"Distribution of THROMBOCYTE\")\n",
    "plt.show()"
   ]
  },
  {
   "cell_type": "markdown",
   "id": "9dd74511-42c4-45c0-9ae0-a89625557969",
   "metadata": {},
   "source": [
    "THROMBOCYTE distribution is right skewed. Outliers are there in the data. We are not removing the outliers because we will be using random forest classifier"
   ]
  },
  {
   "cell_type": "code",
   "execution_count": 12,
   "id": "aecd50e5-a51e-4f88-8444-ac46eed553ce",
   "metadata": {},
   "outputs": [
    {
     "name": "stderr",
     "output_type": "stream",
     "text": [
      "/opt/anaconda3/lib/python3.11/site-packages/seaborn/_oldcore.py:1119: FutureWarning: use_inf_as_na option is deprecated and will be removed in a future version. Convert inf values to NaN before operating instead.\n",
      "  with pd.option_context('mode.use_inf_as_na', True):\n"
     ]
    },
    {
     "data": {
      "image/png": "[encoded data removed]",
      "text/plain": [
       "<Figure size 640x480 with 1 Axes>"
      ]
     },
     "metadata": {},
     "output_type": "display_data"
    }
   ],
   "source": [
    "sns.histplot(data=df,x='AGE',hue='SOURCE',multiple='stack', kde=False)\n",
    "plt.title(\"Distribution of AGE\")\n",
    "plt.show()"
   ]
  },
  {
   "cell_type": "markdown",
   "id": "a29aff53-7ae3-41aa-8162-fbd7165ffb8d",
   "metadata": {},
   "source": [
    "Splitting features and target"
   ]
  },
  {
   "cell_type": "code",
   "execution_count": 13,
   "id": "bb2f4d65-e03a-4cd2-8946-c6bdcce9218e",
   "metadata": {},
   "outputs": [],
   "source": [
    "X=df.drop(columns=['SOURCE'])\n",
    "y=df['SOURCE']"
   ]
  },
  {
   "cell_type": "markdown",
   "id": "0e4a7d72-6ece-45ed-b53b-803a4003eb5e",
   "metadata": {},
   "source": [
    "Understanding categories in SEX column"
   ]
  },
  {
   "cell_type": "code",
   "execution_count": 14,
   "id": "605a49a7-2154-404b-846b-159ba6902768",
   "metadata": {},
   "outputs": [
    {
     "data": {
      "text/plain": [
       "array(['F', 'M'], dtype=object)"
      ]
     },
     "execution_count": 14,
     "metadata": {},
     "output_type": "execute_result"
    }
   ],
   "source": [
    "X['SEX'].unique()"
   ]
  },
  {
   "cell_type": "markdown",
   "id": "e11a82db-115f-4e1e-86b5-7147af8fc6a2",
   "metadata": {},
   "source": [
    "Converting 'SEX' column to binary"
   ]
  },
  {
   "cell_type": "code",
   "execution_count": 15,
   "id": "b3673442-9b1b-4d66-8d0b-4d89b7933fd0",
   "metadata": {},
   "outputs": [],
   "source": [
    "X['SEX']=X['SEX'].apply(lambda x: 1 if x=='M' else 0)"
   ]
  },
  {
   "cell_type": "code",
   "execution_count": 16,
   "id": "ab79afb5-7546-4df8-ad9c-5fd722ef0f99",
   "metadata": {},
   "outputs": [
    {
     "data": {
      "text/html": [
       "<div>\n",
       "<style scoped>\n",
       "    .dataframe tbody tr th:only-of-type {\n",
       "        vertical-align: middle;\n",
       "    }\n",
       "\n",
       "    .dataframe tbody tr th {\n",
       "        vertical-align: top;\n",
       "    }\n",
       "\n",
       "    .dataframe thead th {\n",
       "        text-align: right;\n",
       "    }\n",
       "</style>\n",
       "<table border=\"1\" class=\"dataframe\">\n",
       "  <thead>\n",
       "    <tr style=\"text-align: right;\">\n",
       "      <th></th>\n",
       "      <th>HAEMATOCRIT</th>\n",
       "      <th>HAEMOGLOBINS</th>\n",
       "      <th>ERYTHROCYTE</th>\n",
       "      <th>LEUCOCYTE</th>\n",
       "      <th>THROMBOCYTE</th>\n",
       "      <th>MCH</th>\n",
       "      <th>MCHC</th>\n",
       "      <th>MCV</th>\n",
       "      <th>AGE</th>\n",
       "      <th>SEX</th>\n",
       "    </tr>\n",
       "  </thead>\n",
       "  <tbody>\n",
       "    <tr>\n",
       "      <th>0</th>\n",
       "      <td>33.8</td>\n",
       "      <td>11.1</td>\n",
       "      <td>4.18</td>\n",
       "      <td>4.6</td>\n",
       "      <td>150</td>\n",
       "      <td>26.6</td>\n",
       "      <td>32.8</td>\n",
       "      <td>80.9</td>\n",
       "      <td>33</td>\n",
       "      <td>0</td>\n",
       "    </tr>\n",
       "    <tr>\n",
       "      <th>1</th>\n",
       "      <td>44.6</td>\n",
       "      <td>14.0</td>\n",
       "      <td>6.86</td>\n",
       "      <td>6.3</td>\n",
       "      <td>232</td>\n",
       "      <td>20.4</td>\n",
       "      <td>31.4</td>\n",
       "      <td>65.0</td>\n",
       "      <td>36</td>\n",
       "      <td>1</td>\n",
       "    </tr>\n",
       "    <tr>\n",
       "      <th>2</th>\n",
       "      <td>42.9</td>\n",
       "      <td>14.0</td>\n",
       "      <td>4.57</td>\n",
       "      <td>6.2</td>\n",
       "      <td>336</td>\n",
       "      <td>30.6</td>\n",
       "      <td>32.6</td>\n",
       "      <td>93.9</td>\n",
       "      <td>70</td>\n",
       "      <td>0</td>\n",
       "    </tr>\n",
       "    <tr>\n",
       "      <th>3</th>\n",
       "      <td>41.9</td>\n",
       "      <td>14.4</td>\n",
       "      <td>4.67</td>\n",
       "      <td>3.5</td>\n",
       "      <td>276</td>\n",
       "      <td>30.8</td>\n",
       "      <td>34.4</td>\n",
       "      <td>89.7</td>\n",
       "      <td>18</td>\n",
       "      <td>0</td>\n",
       "    </tr>\n",
       "    <tr>\n",
       "      <th>4</th>\n",
       "      <td>40.6</td>\n",
       "      <td>13.3</td>\n",
       "      <td>4.85</td>\n",
       "      <td>14.9</td>\n",
       "      <td>711</td>\n",
       "      <td>27.4</td>\n",
       "      <td>32.8</td>\n",
       "      <td>83.7</td>\n",
       "      <td>36</td>\n",
       "      <td>1</td>\n",
       "    </tr>\n",
       "  </tbody>\n",
       "</table>\n",
       "</div>"
      ],
      "text/plain": [
       "   HAEMATOCRIT  HAEMOGLOBINS  ERYTHROCYTE  LEUCOCYTE  THROMBOCYTE   MCH  MCHC  \\\n",
       "0         33.8          11.1         4.18        4.6          150  26.6  32.8   \n",
       "1         44.6          14.0         6.86        6.3          232  20.4  31.4   \n",
       "2         42.9          14.0         4.57        6.2          336  30.6  32.6   \n",
       "3         41.9          14.4         4.67        3.5          276  30.8  34.4   \n",
       "4         40.6          13.3         4.85       14.9          711  27.4  32.8   \n",
       "\n",
       "    MCV  AGE  SEX  \n",
       "0  80.9   33    0  \n",
       "1  65.0   36    1  \n",
       "2  93.9   70    0  \n",
       "3  89.7   18    0  \n",
       "4  83.7   36    1  "
      ]
     },
     "execution_count": 16,
     "metadata": {},
     "output_type": "execute_result"
    }
   ],
   "source": [
    "X.head()"
   ]
  },
  {
   "cell_type": "markdown",
   "id": "d88702b1-dcab-4277-b984-59dcb2404018",
   "metadata": {},
   "source": [
    "Splitting the data for training and testing"
   ]
  },
  {
   "cell_type": "code",
   "execution_count": 17,
   "id": "ccdb8612-73d0-459d-9070-58ea7c493540",
   "metadata": {},
   "outputs": [],
   "source": [
    "from sklearn.model_selection import train_test_split"
   ]
  },
  {
   "cell_type": "code",
   "execution_count": 18,
   "id": "d8d8e928-070d-4a16-8ee2-5db9b681185e",
   "metadata": {},
   "outputs": [],
   "source": [
    "X_train, X_test, y_train, y_test = train_test_split(X, y, test_size=0.1, random_state=42)"
   ]
  },
  {
   "cell_type": "markdown",
   "id": "5f050f45-85dc-4f32-bcb7-ab4842039c89",
   "metadata": {},
   "source": [
    "Copying the data to data folder"
   ]
  },
  {
   "cell_type": "code",
   "execution_count": 19,
   "id": "9e8d05fd-de28-48a1-9c64-4f99e0a40a01",
   "metadata": {},
   "outputs": [],
   "source": [
    "X_train.to_csv(\"/Users/kuriankgeorge/Desktop/aws/Capstone/03_Doc_Assist/data/X_train.csv\")\n",
    "X_test.to_csv(\"/Users/kuriankgeorge/Desktop/aws/Capstone/03_Doc_Assist/data/X_test.csv\")\n",
    "y_train.to_csv(\"/Users/kuriankgeorge/Desktop/aws/Capstone/03_Doc_Assist/data/y_train.csv\")\n",
    "y_test.to_csv(\"/Users/kuriankgeorge/Desktop/aws/Capstone/03_Doc_Assist/data/y_test.csv\")"
   ]
  },
  {
   "cell_type": "markdown",
   "id": "89b0d35d-4d8b-402c-a978-7727ff6b6aa2",
   "metadata": {},
   "source": [
    "Modeling using random forest classifier"
   ]
  },
  {
   "cell_type": "code",
   "execution_count": 20,
   "id": "8ab189f2-368d-45d1-8ed3-f4b7d953411c",
   "metadata": {},
   "outputs": [],
   "source": [
    "from sklearn.ensemble import RandomForestClassifier\n",
    "from sklearn.model_selection import RandomizedSearchCV\n",
    "from sklearn.metrics import accuracy_score"
   ]
  },
  {
   "cell_type": "code",
   "execution_count": 21,
   "id": "e64099f1-2371-45f1-abce-3bb6c0ba3e8d",
   "metadata": {},
   "outputs": [],
   "source": [
    "rf = RandomForestClassifier(random_state=42)"
   ]
  },
  {
   "cell_type": "code",
   "execution_count": 22,
   "id": "93bddf0b-4f30-43c4-b7fc-b4b29024652b",
   "metadata": {},
   "outputs": [],
   "source": [
    "param_grid = {\n",
    "    'n_estimators': [20,40,50,55,60,70],  # Number of trees\n",
    "    'max_depth': [None, 10, 20, 30],     # Maximum depth of the trees\n",
    "    'min_samples_split': [0.01,0.02,0.025,0.05,0.1,0.3],     # Minimum number of samples to split an internal node     \n",
    "    'bootstrap': [True, False]           # Whether bootstrap samples are used when building trees\n",
    "}"
   ]
  },
  {
   "cell_type": "code",
   "execution_count": 23,
   "id": "c788a378-b4dc-472e-9ab0-e3410a0d615d",
   "metadata": {},
   "outputs": [],
   "source": [
    "rf_random = RandomizedSearchCV(estimator=rf, param_distributions=param_grid, n_iter=10, \n",
    "                               cv=3, verbose=2, random_state=42, n_jobs=-1)"
   ]
  },
  {
   "cell_type": "code",
   "execution_count": 24,
   "id": "396d400b-8980-4872-9e33-eaa7fca30d51",
   "metadata": {},
   "outputs": [
    {
     "name": "stdout",
     "output_type": "stream",
     "text": [
      "Fitting 3 folds for each of 10 candidates, totalling 30 fits\n"
     ]
    },
    {
     "data": {
      "text/html": [
       "<style>#sk-container-id-1 {color: black;background-color: white;}#sk-container-id-1 pre{padding: 0;}#sk-container-id-1 div.sk-toggleable {background-color: white;}#sk-container-id-1 label.sk-toggleable__label {cursor: pointer;display: block;width: 100%;margin-bottom: 0;padding: 0.3em;box-sizing: border-box;text-align: center;}#sk-container-id-1 label.sk-toggleable__label-arrow:before {content: \"▸\";float: left;margin-right: 0.25em;color: #696969;}#sk-container-id-1 label.sk-toggleable__label-arrow:hover:before {color: black;}#sk-container-id-1 div.sk-estimator:hover label.sk-toggleable__label-arrow:before {color: black;}#sk-container-id-1 div.sk-toggleable__content {max-height: 0;max-width: 0;overflow: hidden;text-align: left;background-color: #f0f8ff;}#sk-container-id-1 div.sk-toggleable__content pre {margin: 0.2em;color: black;border-radius: 0.25em;background-color: #f0f8ff;}#sk-container-id-1 input.sk-toggleable__control:checked~div.sk-toggleable__content {max-height: 200px;max-width: 100%;overflow: auto;}#sk-container-id-1 input.sk-toggleable__control:checked~label.sk-toggleable__label-arrow:before {content: \"▾\";}#sk-container-id-1 div.sk-estimator input.sk-toggleable__control:checked~label.sk-toggleable__label {background-color: #d4ebff;}#sk-container-id-1 div.sk-label input.sk-toggleable__control:checked~label.sk-toggleable__label {background-color: #d4ebff;}#sk-container-id-1 input.sk-hidden--visually {border: 0;clip: rect(1px 1px 1px 1px);clip: rect(1px, 1px, 1px, 1px);height: 1px;margin: -1px;overflow: hidden;padding: 0;position: absolute;width: 1px;}#sk-container-id-1 div.sk-estimator {font-family: monospace;background-color: #f0f8ff;border: 1px dotted black;border-radius: 0.25em;box-sizing: border-box;margin-bottom: 0.5em;}#sk-container-id-1 div.sk-estimator:hover {background-color: #d4ebff;}#sk-container-id-1 div.sk-parallel-item::after {content: \"\";width: 100%;border-bottom: 1px solid gray;flex-grow: 1;}#sk-container-id-1 div.sk-label:hover label.sk-toggleable__label {background-color: #d4ebff;}#sk-container-id-1 div.sk-serial::before {content: \"\";position: absolute;border-left: 1px solid gray;box-sizing: border-box;top: 0;bottom: 0;left: 50%;z-index: 0;}#sk-container-id-1 div.sk-serial {display: flex;flex-direction: column;align-items: center;background-color: white;padding-right: 0.2em;padding-left: 0.2em;position: relative;}#sk-container-id-1 div.sk-item {position: relative;z-index: 1;}#sk-container-id-1 div.sk-parallel {display: flex;align-items: stretch;justify-content: center;background-color: white;position: relative;}#sk-container-id-1 div.sk-item::before, #sk-container-id-1 div.sk-parallel-item::before {content: \"\";position: absolute;border-left: 1px solid gray;box-sizing: border-box;top: 0;bottom: 0;left: 50%;z-index: -1;}#sk-container-id-1 div.sk-parallel-item {display: flex;flex-direction: column;z-index: 1;position: relative;background-color: white;}#sk-container-id-1 div.sk-parallel-item:first-child::after {align-self: flex-end;width: 50%;}#sk-container-id-1 div.sk-parallel-item:last-child::after {align-self: flex-start;width: 50%;}#sk-container-id-1 div.sk-parallel-item:only-child::after {width: 0;}#sk-container-id-1 div.sk-dashed-wrapped {border: 1px dashed gray;margin: 0 0.4em 0.5em 0.4em;box-sizing: border-box;padding-bottom: 0.4em;background-color: white;}#sk-container-id-1 div.sk-label label {font-family: monospace;font-weight: bold;display: inline-block;line-height: 1.2em;}#sk-container-id-1 div.sk-label-container {text-align: center;}#sk-container-id-1 div.sk-container {/* jupyter's `normalize.less` sets `[hidden] { display: none; }` but bootstrap.min.css set `[hidden] { display: none !important; }` so we also need the `!important` here to be able to override the default hidden behavior on the sphinx rendered scikit-learn.org. See: https://github.com/scikit-learn/scikit-learn/issues/21755 */display: inline-block !important;position: relative;}#sk-container-id-1 div.sk-text-repr-fallback {display: none;}</style><div id=\"sk-container-id-1\" class=\"sk-top-container\"><div class=\"sk-text-repr-fallback\"><pre>RandomizedSearchCV(cv=3, estimator=RandomForestClassifier(random_state=42),\n",
       "                   n_jobs=-1,\n",
       "                   param_distributions={&#x27;bootstrap&#x27;: [True, False],\n",
       "                                        &#x27;max_depth&#x27;: [None, 10, 20, 30],\n",
       "                                        &#x27;min_samples_split&#x27;: [0.01, 0.02, 0.025,\n",
       "                                                              0.05, 0.1, 0.3],\n",
       "                                        &#x27;n_estimators&#x27;: [20, 40, 50, 55, 60,\n",
       "                                                         70]},\n",
       "                   random_state=42, verbose=2)</pre><b>In a Jupyter environment, please rerun this cell to show the HTML representation or trust the notebook. <br />On GitHub, the HTML representation is unable to render, please try loading this page with nbviewer.org.</b></div><div class=\"sk-container\" hidden><div class=\"sk-item sk-dashed-wrapped\"><div class=\"sk-label-container\"><div class=\"sk-label sk-toggleable\"><input class=\"sk-toggleable__control sk-hidden--visually\" id=\"sk-estimator-id-1\" type=\"checkbox\" ><label for=\"sk-estimator-id-1\" class=\"sk-toggleable__label sk-toggleable__label-arrow\">RandomizedSearchCV</label><div class=\"sk-toggleable__content\"><pre>RandomizedSearchCV(cv=3, estimator=RandomForestClassifier(random_state=42),\n",
       "                   n_jobs=-1,\n",
       "                   param_distributions={&#x27;bootstrap&#x27;: [True, False],\n",
       "                                        &#x27;max_depth&#x27;: [None, 10, 20, 30],\n",
       "                                        &#x27;min_samples_split&#x27;: [0.01, 0.02, 0.025,\n",
       "                                                              0.05, 0.1, 0.3],\n",
       "                                        &#x27;n_estimators&#x27;: [20, 40, 50, 55, 60,\n",
       "                                                         70]},\n",
       "                   random_state=42, verbose=2)</pre></div></div></div><div class=\"sk-parallel\"><div class=\"sk-parallel-item\"><div class=\"sk-item\"><div class=\"sk-label-container\"><div class=\"sk-label sk-toggleable\"><input class=\"sk-toggleable__control sk-hidden--visually\" id=\"sk-estimator-id-2\" type=\"checkbox\" ><label for=\"sk-estimator-id-2\" class=\"sk-toggleable__label sk-toggleable__label-arrow\">estimator: RandomForestClassifier</label><div class=\"sk-toggleable__content\"><pre>RandomForestClassifier(random_state=42)</pre></div></div></div><div class=\"sk-serial\"><div class=\"sk-item\"><div class=\"sk-estimator sk-toggleable\"><input class=\"sk-toggleable__control sk-hidden--visually\" id=\"sk-estimator-id-3\" type=\"checkbox\" ><label for=\"sk-estimator-id-3\" class=\"sk-toggleable__label sk-toggleable__label-arrow\">RandomForestClassifier</label><div class=\"sk-toggleable__content\"><pre>RandomForestClassifier(random_state=42)</pre></div></div></div></div></div></div></div></div></div></div>"
      ],
      "text/plain": [
       "RandomizedSearchCV(cv=3, estimator=RandomForestClassifier(random_state=42),\n",
       "                   n_jobs=-1,\n",
       "                   param_distributions={'bootstrap': [True, False],\n",
       "                                        'max_depth': [None, 10, 20, 30],\n",
       "                                        'min_samples_split': [0.01, 0.02, 0.025,\n",
       "                                                              0.05, 0.1, 0.3],\n",
       "                                        'n_estimators': [20, 40, 50, 55, 60,\n",
       "                                                         70]},\n",
       "                   random_state=42, verbose=2)"
      ]
     },
     "execution_count": 24,
     "metadata": {},
     "output_type": "execute_result"
    }
   ],
   "source": [
    "rf_random.fit(X_train, y_train)"
   ]
  },
  {
   "cell_type": "markdown",
   "id": "c47ae5ef-e1a3-40ca-8d17-942688552a7e",
   "metadata": {},
   "source": [
    "Finding the best parameters"
   ]
  },
  {
   "cell_type": "code",
   "execution_count": 25,
   "id": "b6e9894f-a823-4330-a059-e434b2ff31d6",
   "metadata": {},
   "outputs": [
    {
     "name": "stdout",
     "output_type": "stream",
     "text": [
      "Best Hyperparameters: {'n_estimators': 70, 'min_samples_split': 0.01, 'max_depth': 20, 'bootstrap': True}\n"
     ]
    }
   ],
   "source": [
    "best_params = rf_random.best_params_\n",
    "print(f\"Best Hyperparameters: {best_params}\")"
   ]
  },
  {
   "cell_type": "markdown",
   "id": "ce6a324d-c1f9-4caa-972f-cfe1161580ae",
   "metadata": {},
   "source": [
    "Fitting the best model"
   ]
  },
  {
   "cell_type": "code",
   "execution_count": 26,
   "id": "caeeb690-1524-432c-8e61-d0e4248adc72",
   "metadata": {},
   "outputs": [],
   "source": [
    "best_rf = rf_random.best_estimator_"
   ]
  },
  {
   "cell_type": "markdown",
   "id": "701f6f63-dfec-43c3-ab72-9f6d6fc8473a",
   "metadata": {},
   "source": [
    "Checking the accuracy of test and train data"
   ]
  },
  {
   "cell_type": "code",
   "execution_count": 27,
   "id": "29dfcf13-0f4f-4dae-9316-7a2f77096308",
   "metadata": {},
   "outputs": [
    {
     "name": "stdout",
     "output_type": "stream",
     "text": [
      "Accuracy on the test set: 0.7613293051359517\n",
      "Accuracy on the train set: 0.8418401611820013\n"
     ]
    }
   ],
   "source": [
    "y_pred_test = best_rf.predict(X_test)\n",
    "accuracy_test = accuracy_score(y_test, y_pred_test)\n",
    "print(f\"Accuracy on the test set: {accuracy_test}\")\n",
    "y_pred_train=best_rf.predict(X_train)\n",
    "accuracy_train = accuracy_score(y_train, y_pred_train)\n",
    "print(f\"Accuracy on the train set: {accuracy_train}\")"
   ]
  },
  {
   "cell_type": "markdown",
   "id": "700053e8-6d0a-47d8-a82b-9bd3f0bf9f8d",
   "metadata": {},
   "source": [
    "Saving the model"
   ]
  },
  {
   "cell_type": "code",
   "execution_count": 30,
   "id": "9aca284e-8b65-42c9-968f-2828d03cbc97",
   "metadata": {},
   "outputs": [
    {
     "data": {
      "text/plain": [
       "['/Users/kuriankgeorge/Desktop/aws/Capstone/03_Doc_Assist/model/best_random_forest_model.pkl']"
      ]
     },
     "execution_count": 30,
     "metadata": {},
     "output_type": "execute_result"
    }
   ],
   "source": [
    "import joblib\n",
    "joblib.dump(best_rf, \"/Users/kuriankgeorge/Desktop/aws/Capstone/03_Doc_Assist/model/best_random_forest_model.pkl\")"
   ]
  },
  {
   "cell_type": "markdown",
   "id": "26ba9c12-3cab-48bc-9730-66cb4d64d886",
   "metadata": {},
   "source": [
    "Load the model for testing again"
   ]
  },
  {
   "cell_type": "code",
   "execution_count": 32,
   "id": "18acb34d-3bc1-4952-98ef-5e180b3bc1e0",
   "metadata": {},
   "outputs": [],
   "source": [
    "best_rf_loaded = joblib.load('/Users/kuriankgeorge/Desktop/aws/Capstone/03_Doc_Assist/model/best_random_forest_model.pkl')"
   ]
  },
  {
   "cell_type": "code",
   "execution_count": 33,
   "id": "3df60d19-7b8c-4ea4-a9be-57b191c9431c",
   "metadata": {},
   "outputs": [
    {
     "name": "stdout",
     "output_type": "stream",
     "text": [
      "Accuracy on the test set: 0.7613293051359517\n",
      "[CV] END bootstrap=True, max_depth=10, min_samples_split=0.02, n_estimators=55; total time=   0.4s\n",
      "[CV] END bootstrap=False, max_depth=30, min_samples_split=0.01, n_estimators=60; total time=   0.7s\n",
      "[CV] END bootstrap=True, max_depth=10, min_samples_split=0.02, n_estimators=20; total time=   0.2s\n",
      "[CV] END bootstrap=False, max_depth=10, min_samples_split=0.01, n_estimators=40; total time=   0.7s\n",
      "[CV] END bootstrap=True, max_depth=10, min_samples_split=0.02, n_estimators=60; total time=   0.4s\n",
      "[CV] END bootstrap=False, max_depth=None, min_samples_split=0.1, n_estimators=60; total time=   0.3s\n",
      "[CV] END bootstrap=True, max_depth=20, min_samples_split=0.01, n_estimators=70; total time=   0.5s\n",
      "[CV] END bootstrap=False, max_depth=None, min_samples_split=0.025, n_estimators=40; total time=   0.3s\n",
      "[CV] END bootstrap=False, max_depth=None, min_samples_split=0.025, n_estimators=40; total time=   0.3s\n",
      "[CV] END bootstrap=False, max_depth=30, min_samples_split=0.01, n_estimators=60; total time=   1.1s\n",
      "[CV] END bootstrap=True, max_depth=None, min_samples_split=0.02, n_estimators=55; total time=   0.4s\n",
      "[CV] END bootstrap=True, max_depth=10, min_samples_split=0.02, n_estimators=60; total time=   0.4s\n",
      "[CV] END bootstrap=False, max_depth=None, min_samples_split=0.1, n_estimators=60; total time=   0.4s\n",
      "[CV] END bootstrap=False, max_depth=10, min_samples_split=0.025, n_estimators=55; total time=   0.4s\n",
      "[CV] END bootstrap=True, max_depth=10, min_samples_split=0.02, n_estimators=55; total time=   0.4s\n",
      "[CV] END bootstrap=False, max_depth=None, min_samples_split=0.025, n_estimators=40; total time=   0.3s\n",
      "[CV] END bootstrap=True, max_depth=10, min_samples_split=0.02, n_estimators=20; total time=   0.2s\n",
      "[CV] END bootstrap=True, max_depth=10, min_samples_split=0.02, n_estimators=20; total time=   0.3s\n",
      "[CV] END bootstrap=False, max_depth=10, min_samples_split=0.01, n_estimators=40; total time=   0.6s\n",
      "[CV] END bootstrap=True, max_depth=None, min_samples_split=0.02, n_estimators=55; total time=   0.4s\n",
      "[CV] END bootstrap=False, max_depth=None, min_samples_split=0.1, n_estimators=60; total time=   0.3s\n",
      "[CV] END bootstrap=True, max_depth=20, min_samples_split=0.01, n_estimators=70; total time=   0.5s\n",
      "[CV] END bootstrap=False, max_depth=10, min_samples_split=0.025, n_estimators=55; total time=   0.3s\n",
      "[CV] END bootstrap=True, max_depth=10, min_samples_split=0.02, n_estimators=55; total time=   0.4s\n",
      "[CV] END bootstrap=False, max_depth=30, min_samples_split=0.01, n_estimators=60; total time=   0.7s\n",
      "[CV] END bootstrap=False, max_depth=10, min_samples_split=0.01, n_estimators=40; total time=   0.7s\n",
      "[CV] END bootstrap=True, max_depth=None, min_samples_split=0.02, n_estimators=55; total time=   0.4s\n",
      "[CV] END bootstrap=True, max_depth=10, min_samples_split=0.02, n_estimators=60; total time=   0.4s\n",
      "[CV] END bootstrap=True, max_depth=20, min_samples_split=0.01, n_estimators=70; total time=   0.5s\n",
      "[CV] END bootstrap=False, max_depth=10, min_samples_split=0.025, n_estimators=55; total time=   0.3s\n"
     ]
    }
   ],
   "source": [
    "y_pred_test = best_rf_loaded.predict(X_test)\n",
    "accuracy_test = accuracy_score(y_test, y_pred_test)\n",
    "print(f\"Accuracy on the test set: {accuracy_test}\")"
   ]
  },
  {
   "cell_type": "markdown",
   "id": "f619441f-55fc-4734-bccd-885d5405c4b6",
   "metadata": {},
   "source": [
    "Get precision score also"
   ]
  },
  {
   "cell_type": "code",
   "execution_count": 35,
   "id": "e8b51fa4-e03b-487d-8716-15174ae86cfc",
   "metadata": {},
   "outputs": [],
   "source": [
    "from sklearn.metrics import precision_score"
   ]
  },
  {
   "cell_type": "code",
   "execution_count": 36,
   "id": "634fa659-c86f-41ea-a74e-03b7f6124368",
   "metadata": {},
   "outputs": [
    {
     "name": "stdout",
     "output_type": "stream",
     "text": [
      "Precision on the test set: 0.7567567567567568\n",
      "Precision on the train set: 0.864476386036961\n"
     ]
    }
   ],
   "source": [
    "\n",
    "precision_test = precision_score(y_test, y_pred_test)\n",
    "print(f\"Precision on the test set: {precision_test}\")\n",
    "precision_train = precision_score(y_train, y_pred_train)\n",
    "print(f\"Precision on the train set: {precision_train}\")"
   ]
  },
  {
   "cell_type": "code",
   "execution_count": null,
   "id": "ef5e4370-3aff-465a-b2fc-333c29007327",
   "metadata": {},
   "outputs": [],
   "source": []
  }
 ],
 "metadata": {
  "kernelspec": {
   "display_name": "Python 3 (ipykernel)",
   "language": "python",
   "name": "python3"
  },
  "language_info": {
   "codemirror_mode": {
    "name": "ipython",
    "version": 3
   },
   "file_extension": ".py",
   "mimetype": "text/x-python",
   "name": "python",
   "nbconvert_exporter": "python",
   "pygments_lexer": "ipython3",
   "version": "3.11.7"
  }
 },
 "nbformat": 4,
 "nbformat_minor": 5
}
